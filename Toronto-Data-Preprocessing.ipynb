{
 "cells": [
  {
   "cell_type": "markdown",
   "metadata": {},
   "source": [
    "# Fetch Toronto Data From  Wikipedia Page"
   ]
  },
  {
   "cell_type": "markdown",
   "metadata": {},
   "source": [
    "## For this assignment, you will be required to explore and cluster the neighborhoods in Toronto.\n",
    "\n",
    "### 1. Start by creating a new Notebook for this assignment.\n",
    "\n",
    "### 2. Use the Notebook to build the code to scrape the following Wikipedia page, https://en.wikipedia.org/wiki/List_of_postal_codes_of_Canada:_M, in order to obtain the data that is in the table of postal codes and to transform the data into a pandas dataframe"
   ]
  },
  {
   "cell_type": "code",
   "execution_count": 1,
   "metadata": {},
   "outputs": [],
   "source": [
    "# import the necessary libraries\n",
    "import numpy as np\n",
    "import pandas as pd\n",
    "import requests\n",
    "from bs4 import BeautifulSoup"
   ]
  },
  {
   "cell_type": "code",
   "execution_count": 2,
   "metadata": {},
   "outputs": [
    {
     "data": {
      "text/plain": [
       "<Response [200]>"
      ]
     },
     "execution_count": 2,
     "metadata": {},
     "output_type": "execute_result"
    }
   ],
   "source": [
    "# the link to the Toronto  neighborhood wikipedia page\n",
    "url = 'https://en.wikipedia.org/wiki/List_of_postal_codes_of_Canada:_M'\n",
    "\n",
    "# send the GET requests for the url\n",
    "toron = requests.get(url)\n",
    "toron"
   ]
  },
  {
   "cell_type": "markdown",
   "metadata": {},
   "source": [
    "### using beautiful soup to parse the HTML code"
   ]
  },
  {
   "cell_type": "code",
   "execution_count": 3,
   "metadata": {},
   "outputs": [],
   "source": [
    "toronto = BeautifulSoup(toron.text, 'html.parser')\n",
    "# toronto.prettify()"
   ]
  },
  {
   "cell_type": "code",
   "execution_count": 4,
   "metadata": {},
   "outputs": [
    {
     "name": "stdout",
     "output_type": "stream",
     "text": [
      "[['M1A', 'Not assigned', 'Not assigned'], ['M2A', 'Not assigned', 'Not assigned'], ['M3A', 'North York', 'Parkwoods'], ['M4A', 'North York', 'Victoria Village'], ['M5A', 'Downtown Toronto', 'Harbourfront'], ['M5A', 'Downtown Toronto', 'Regent Park'], ['M6A', 'North York', 'Lawrence Heights'], ['M6A', 'North York', 'Lawrence Manor'], ['M7A', \"Queen's Park\", 'Not assigned'], ['M8A', 'Not assigned', 'Not assigned']]\n"
     ]
    }
   ],
   "source": [
    "table = toronto.find('table')\n",
    "tr = table.find_all('tr')\n",
    "data_list = []\n",
    "for i in tr[1:]:\n",
    "    data_list.append(i.text.rstrip().rsplit('\\n')[1:])\n",
    "print(data_list[:10])"
   ]
  },
  {
   "cell_type": "markdown",
   "metadata": {},
   "source": [
    "### Clean up the data and pass it into dataframe"
   ]
  },
  {
   "cell_type": "code",
   "execution_count": 5,
   "metadata": {},
   "outputs": [
    {
     "name": "stdout",
     "output_type": "stream",
     "text": [
      "103\n"
     ]
    },
    {
     "data": {
      "text/html": [
       "<div>\n",
       "<style scoped>\n",
       "    .dataframe tbody tr th:only-of-type {\n",
       "        vertical-align: middle;\n",
       "    }\n",
       "\n",
       "    .dataframe tbody tr th {\n",
       "        vertical-align: top;\n",
       "    }\n",
       "\n",
       "    .dataframe thead th {\n",
       "        text-align: right;\n",
       "    }\n",
       "</style>\n",
       "<table border=\"1\" class=\"dataframe\">\n",
       "  <thead>\n",
       "    <tr style=\"text-align: right;\">\n",
       "      <th></th>\n",
       "      <th>Postal Code</th>\n",
       "      <th>Borough</th>\n",
       "      <th>Neighborhood</th>\n",
       "    </tr>\n",
       "  </thead>\n",
       "  <tbody>\n",
       "    <tr>\n",
       "      <th>0</th>\n",
       "      <td>M1C</td>\n",
       "      <td>Scarborough</td>\n",
       "      <td>Highland Creek, Rouge Hill, Port Union</td>\n",
       "    </tr>\n",
       "    <tr>\n",
       "      <th>1</th>\n",
       "      <td>M5K</td>\n",
       "      <td>Downtown Toronto</td>\n",
       "      <td>Design Exchange, Toronto Dominion Centre</td>\n",
       "    </tr>\n",
       "    <tr>\n",
       "      <th>2</th>\n",
       "      <td>M2J</td>\n",
       "      <td>North York</td>\n",
       "      <td>Fairview, Henry Farm, Oriole</td>\n",
       "    </tr>\n",
       "    <tr>\n",
       "      <th>3</th>\n",
       "      <td>M9N</td>\n",
       "      <td>York</td>\n",
       "      <td>Weston</td>\n",
       "    </tr>\n",
       "    <tr>\n",
       "      <th>4</th>\n",
       "      <td>M5W</td>\n",
       "      <td>Downtown Toronto</td>\n",
       "      <td>Stn A PO Boxes 25 The Esplanade</td>\n",
       "    </tr>\n",
       "  </tbody>\n",
       "</table>\n",
       "</div>"
      ],
      "text/plain": [
       "  Postal Code           Borough                              Neighborhood\n",
       "0         M1C       Scarborough    Highland Creek, Rouge Hill, Port Union\n",
       "1         M5K  Downtown Toronto  Design Exchange, Toronto Dominion Centre\n",
       "2         M2J        North York              Fairview, Henry Farm, Oriole\n",
       "3         M9N              York                                    Weston\n",
       "4         M5W  Downtown Toronto           Stn A PO Boxes 25 The Esplanade"
      ]
     },
     "execution_count": 5,
     "metadata": {},
     "output_type": "execute_result"
    }
   ],
   "source": [
    "pp =[]\n",
    "for l in data_list:\n",
    "    p = l[0]\n",
    "    b = l[1]\n",
    "    n = l[2]\n",
    "    if (b != 'Not assigned'):\n",
    "        if (n == 'Not assigned'):\n",
    "            n = b\n",
    "        pp.append((p, b, n))\n",
    "\n",
    "postal_code = [m[0] for m in pp]\n",
    "# print(pp[0:3])\n",
    "\n",
    "unique_pc = set(postal_code)\n",
    "print(len(unique_pc))\n",
    "    \n",
    "pc_data = []\n",
    "for pc_unique in unique_pc:\n",
    "    pc_var = ''; b_var=''; n_var='';\n",
    "    for pc_index, pc_item in enumerate(pp):\n",
    "        if pc_unique == pc_item[0]:\n",
    "            pc_var = pc_item[0]\n",
    "            b_var = pc_item[1]\n",
    "            if n_var=='':\n",
    "                n_var = pc_item[2]\n",
    "            else:\n",
    "                n_var= n_var+', ' + pc_item[2]\n",
    "    pc_data.append((pc_var, b_var, n_var))\n",
    "            \n",
    "# print(pc_data[0:10])\n",
    "# print(len(pc_data))\n",
    "column = ['Postal Code', 'Borough', 'Neighborhood']\n",
    "toronto_dff = pd.DataFrame(pc_data, columns=column)\n",
    "toronto_dff.head()"
   ]
  },
  {
   "cell_type": "markdown",
   "metadata": {},
   "source": [
    "## Merge the `Geospatial_Coordinates.csv` file to the `toronto_dff`"
   ]
  },
  {
   "cell_type": "code",
   "execution_count": 6,
   "metadata": {},
   "outputs": [
    {
     "data": {
      "text/html": [
       "<div>\n",
       "<style scoped>\n",
       "    .dataframe tbody tr th:only-of-type {\n",
       "        vertical-align: middle;\n",
       "    }\n",
       "\n",
       "    .dataframe tbody tr th {\n",
       "        vertical-align: top;\n",
       "    }\n",
       "\n",
       "    .dataframe thead th {\n",
       "        text-align: right;\n",
       "    }\n",
       "</style>\n",
       "<table border=\"1\" class=\"dataframe\">\n",
       "  <thead>\n",
       "    <tr style=\"text-align: right;\">\n",
       "      <th></th>\n",
       "      <th>Postal Code</th>\n",
       "      <th>Borough</th>\n",
       "      <th>Neighborhood</th>\n",
       "      <th>Latitude</th>\n",
       "      <th>Longitude</th>\n",
       "    </tr>\n",
       "  </thead>\n",
       "  <tbody>\n",
       "    <tr>\n",
       "      <th>0</th>\n",
       "      <td>M1C</td>\n",
       "      <td>Scarborough</td>\n",
       "      <td>Highland Creek, Rouge Hill, Port Union</td>\n",
       "      <td>43.784535</td>\n",
       "      <td>-79.160497</td>\n",
       "    </tr>\n",
       "    <tr>\n",
       "      <th>1</th>\n",
       "      <td>M5K</td>\n",
       "      <td>Downtown Toronto</td>\n",
       "      <td>Design Exchange, Toronto Dominion Centre</td>\n",
       "      <td>43.647177</td>\n",
       "      <td>-79.381576</td>\n",
       "    </tr>\n",
       "    <tr>\n",
       "      <th>2</th>\n",
       "      <td>M2J</td>\n",
       "      <td>North York</td>\n",
       "      <td>Fairview, Henry Farm, Oriole</td>\n",
       "      <td>43.778517</td>\n",
       "      <td>-79.346556</td>\n",
       "    </tr>\n",
       "    <tr>\n",
       "      <th>3</th>\n",
       "      <td>M9N</td>\n",
       "      <td>York</td>\n",
       "      <td>Weston</td>\n",
       "      <td>43.706876</td>\n",
       "      <td>-79.518188</td>\n",
       "    </tr>\n",
       "    <tr>\n",
       "      <th>4</th>\n",
       "      <td>M5W</td>\n",
       "      <td>Downtown Toronto</td>\n",
       "      <td>Stn A PO Boxes 25 The Esplanade</td>\n",
       "      <td>43.646435</td>\n",
       "      <td>-79.374846</td>\n",
       "    </tr>\n",
       "  </tbody>\n",
       "</table>\n",
       "</div>"
      ],
      "text/plain": [
       "  Postal Code           Borough                              Neighborhood  \\\n",
       "0         M1C       Scarborough    Highland Creek, Rouge Hill, Port Union   \n",
       "1         M5K  Downtown Toronto  Design Exchange, Toronto Dominion Centre   \n",
       "2         M2J        North York              Fairview, Henry Farm, Oriole   \n",
       "3         M9N              York                                    Weston   \n",
       "4         M5W  Downtown Toronto           Stn A PO Boxes 25 The Esplanade   \n",
       "\n",
       "    Latitude  Longitude  \n",
       "0  43.784535 -79.160497  \n",
       "1  43.647177 -79.381576  \n",
       "2  43.778517 -79.346556  \n",
       "3  43.706876 -79.518188  \n",
       "4  43.646435 -79.374846  "
      ]
     },
     "execution_count": 6,
     "metadata": {},
     "output_type": "execute_result"
    }
   ],
   "source": [
    "geo = pd.read_csv('Geospatial_Coordinates.csv')\n",
    "toronto_data_geo = pd.merge(toronto_dff, geo, on='Postal Code', how='left')\n",
    "toronto_data_geo.to_csv('toronto_data_geo.csv', index=False)\n",
    "toronto_data_geo.head()"
   ]
  },
  {
   "cell_type": "code",
   "execution_count": null,
   "metadata": {},
   "outputs": [],
   "source": []
  }
 ],
 "metadata": {
  "kernelspec": {
   "display_name": "Python 3",
   "language": "python",
   "name": "python3"
  },
  "language_info": {
   "codemirror_mode": {
    "name": "ipython",
    "version": 3
   },
   "file_extension": ".py",
   "mimetype": "text/x-python",
   "name": "python",
   "nbconvert_exporter": "python",
   "pygments_lexer": "ipython3",
   "version": "3.6.5"
  }
 },
 "nbformat": 4,
 "nbformat_minor": 2
}
