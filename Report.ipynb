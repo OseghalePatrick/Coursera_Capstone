{
 "cells": [
  {
   "cell_type": "markdown",
   "metadata": {},
   "source": [
    "# A Location Recommender System for Business Startup"
   ]
  },
  {
   "cell_type": "markdown",
   "metadata": {},
   "source": [
    "## Introduction/Business Problem"
   ]
  },
  {
   "cell_type": "markdown",
   "metadata": {},
   "source": [
    "### In the boroughs of Toronto (North York), there is a groceries contractor who provides fresh and high-quality groceries to places such as: Different types of Restaurants, Bakery, Breakfast Spot, Brewery and Café. The contractor wants to build a warehouse to store the groceries it buys from producers inside the borough, so that they will support more customers and also bring better \"Quality of Service\" to the old customers. For example, if the warehouse is close to those old and famous restaurants, then the vegetables and other groceries would be delivered to the restaurant in the right time without delay.\n",
    "\n",
    "### The contractor should build this warehouse where it is closest to its customers in order to minimize the cost of transpotation in addition to the example above. Which neighborhood (in that borough) would be a better choice for the contractor to build the warehouse in that neighborhood. Finding the right neighborhood is our mission and our recommender system will provide this contractor with a sorted list of neighborhoods in which the first elemnt of the list will be the best suggested neighborhood."
   ]
  },
  {
   "cell_type": "markdown",
   "metadata": {},
   "source": [
    "  "
   ]
  },
  {
   "cell_type": "markdown",
   "metadata": {},
   "source": [
    "## Data"
   ]
  },
  {
   "cell_type": "markdown",
   "metadata": {},
   "source": [
    "### The location data will be the Toronto neighborhood data with its corresponding geographical data from the Week3 assignment.\n",
    "\n",
    "### The data of Toronto is made up of the features Postal Code, Borough, Neighborhood, Latitude, and Longitude which will be used to leverage the Foursquare Api to get the best location."
   ]
  },
  {
   "cell_type": "markdown",
   "metadata": {},
   "source": [
    " "
   ]
  },
  {
   "cell_type": "markdown",
   "metadata": {},
   "source": [
    "# Methodology\n",
    "\n",
    "\n",
    "## 1: Identifying Neighborhoods inside `North York`\n",
    "### We will use Postal Codes of different regions inside `North York` to find the list of neighborhoods. We will essentially obtain our information from https://en.wikipedia.org/wiki/List_of_postal_codes_of_Canada:_M and then process the table inside this site. Images from dataframes and also from maps will be provided in the presentation. Here we only present our strategy and how we got the mission accomplished."
   ]
  },
  {
   "cell_type": "markdown",
   "metadata": {},
   "source": [
    "## 2: Connecting to Foursquare and Retrieving Locational Data\n",
    "## for Each Venue in Every Neighborhood\n",
    "### After finding the list of neighborhoods, we then connect to the Foursquare API to gather information about venues inside each and every neighborhood. For each neighborhood, we have chosen the radius to be 1000 meter. It means that we have asked Foursquare to find venues that are at most 1000 meter far from the center of the neighborhood. (I think distance is measured by latitude and longitude of venues and neighborhoods, and it is not the walking distance for venues.)\n",
    "\n",
    "\n",
    "## 3: Processing the Retrieved Data and Creating a DataFrome for All the Venues inside the `North York` \n",
    "### When the data is completely gathered, we will perform processing on that raw data to find our desirable features for each venue. Our main feature is the category of that venue. After this stage, the column \"Venue's Category\" wil be One-hot encoded and different venues will have different feature-columns. After On-hot encoding we will integrate all restaurant columns to one column \"Total Restaurants\" and all food joint columns to \"Total Joints\" column. We assumed that different resaturants use the Same raw groceries. This assumption is made for simplicity and due to not having a very detailed dataset about different venues.\n",
    "\n",
    "\n",
    "### Now, the dataset is fully ready to be used for machine learning (and statistical analysis) purposes.\n",
    "\n",
    "\n",
    "## 4: Applying one of Machine Learning Techniques (K-Means Clustering)\n",
    "### Here we cluster neighborhoods via K-means clustering method. We think that 5 clusters is enough and can cover the complexity of our problem. After clustering we will update our dataset and create a column representing the group for each neighborhood.\n",
    "\n",
    "\n",
    "# Decision Making and Reporting Results\n",
    "### Now, we focus on the centers of clusters and compare them for their \"Total Restaurants\" and their \"Total Joints\". The group which its center has the highest \"Total Sum\" will be our best recommendation to the contractor. {Note: Total Sum = Total Restaurants + Total Joints + Other Venues.} This algorithm although is pretty straightforward yet is strongly powerful.\n",
    "\n"
   ]
  },
  {
   "cell_type": "markdown",
   "metadata": {},
   "source": [
    "\n",
    "# Results:\n",
    "## Based on this analysis, the best recommended neighborhood will be:\n",
    "### {'Neighborhood': 'Willowdale South',\n",
    "### 'Neighborhood Latitude': 43.7701199,\n",
    "### 'Neighborhood Longitude': -79.40849279999998,\n",
    "### 'Venue': 'The Keg'}"
   ]
  }
 ],
 "metadata": {
  "kernelspec": {
   "display_name": "Python 3",
   "language": "python",
   "name": "python3"
  },
  "language_info": {
   "codemirror_mode": {
    "name": "ipython",
    "version": 3
   },
   "file_extension": ".py",
   "mimetype": "text/x-python",
   "name": "python",
   "nbconvert_exporter": "python",
   "pygments_lexer": "ipython3",
   "version": "3.6.5"
  }
 },
 "nbformat": 4,
 "nbformat_minor": 2
}
